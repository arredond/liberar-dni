{
 "cells": [
  {
   "cell_type": "markdown",
   "id": "chronic-border",
   "metadata": {},
   "source": [
    "# Liberar DNI - Notebook de pruebas\n",
    "\n",
    "Este notebook requiere las credenciales de tu DNI para iniciar sesión en el portal de cita previa en un archivo `.env`.\n",
    "Simplemente crea una copia de `.env.sample` llamada `.env` y rellena los datos con los que figuran en tu DNI."
   ]
  },
  {
   "cell_type": "code",
   "execution_count": null,
   "id": "digital-airport",
   "metadata": {},
   "outputs": [],
   "source": [
    "import os\n",
    "\n",
    "from PIL import Image\n",
    "\n",
    "import pandas as pd\n",
    "\n",
    "from dotenv import load_dotenv\n",
    "from pytesseract import image_to_string\n",
    "from selenium.webdriver import Firefox\n",
    "from tqdm.auto import tqdm\n",
    "\n",
    "from utils import (download_captcha_img, extraer_datos_unidad, extract_hours,\n",
    "                   get_remaining_days, get_remaining_months)"
   ]
  },
  {
   "cell_type": "code",
   "execution_count": null,
   "id": "beginning-convenience",
   "metadata": {},
   "outputs": [],
   "source": [
    "load_dotenv()"
   ]
  },
  {
   "cell_type": "code",
   "execution_count": null,
   "id": "narrow-house",
   "metadata": {},
   "outputs": [],
   "source": [
    "URL_LOGIN = 'https://www.citapreviadnie.es/citaPreviaDniExp/InicioDNINIE.action'\n",
    "URL_DNI = 'https://www.citapreviadnie.es/citaPreviaDniExp/InicioTramite.action?idDocumento=D'\n",
    "URL_PASAPORTE = 'https://www.citapreviadnie.es/citaPreviaDniExp/InicioTramite.action?idDocumento=P'\n",
    "\n",
    "driver = Firefox()\n",
    "\n",
    "driver.get(URL_LOGIN)"
   ]
  },
  {
   "cell_type": "markdown",
   "id": "statistical-attitude",
   "metadata": {},
   "source": [
    "## Repeat these steps until login works"
   ]
  },
  {
   "cell_type": "code",
   "execution_count": null,
   "id": "electric-navigator",
   "metadata": {},
   "outputs": [],
   "source": [
    "download_captcha_img(driver)"
   ]
  },
  {
   "cell_type": "code",
   "execution_count": null,
   "id": "hybrid-quest",
   "metadata": {},
   "outputs": [],
   "source": [
    "captcha_img = Image.open('captcha.jpg')\n",
    "solved_captcha = image_to_string(captcha_img).replace(' ', '')[:4]"
   ]
  },
  {
   "cell_type": "code",
   "execution_count": null,
   "id": "incorporated-highway",
   "metadata": {},
   "outputs": [],
   "source": [
    "solved_captcha"
   ]
  },
  {
   "cell_type": "code",
   "execution_count": null,
   "id": "banned-niagara",
   "metadata": {},
   "outputs": [],
   "source": [
    "NUM_DOCUMENTO = os.environ['NUM_DOCUMENTO']\n",
    "LETRA_DOCUMENTO = os.environ['LETRA_DOCUMENTO']\n",
    "CODIGO_EQUIPO = os.environ['CODIGO_EQUIPO']\n",
    "FECHA_VALIDEZ = os.environ['FECHA_VALIDEZ']\n",
    "\n",
    "inputs = {\n",
    "    'numDocumento': NUM_DOCUMENTO,\n",
    "    'letraDocumento': LETRA_DOCUMENTO,\n",
    "    'codEquipo': CODIGO_EQUIPO,\n",
    "    'fechaValidez': FECHA_VALIDEZ,\n",
    "    'codSeguridad': solved_captcha,\n",
    "}\n",
    "\n",
    "for k,v in inputs.items():\n",
    "    elem = driver.find_element_by_id(k)\n",
    "    elem.send_keys(v)"
   ]
  },
  {
   "cell_type": "code",
   "execution_count": null,
   "id": "going-bookmark",
   "metadata": {},
   "outputs": [],
   "source": [
    "submit_button = driver.find_element_by_xpath('/html/body/div/div[4]/div[1]/form/p[6]/input[1]')\n",
    "submit_button.click()"
   ]
  },
  {
   "cell_type": "markdown",
   "id": "dutch-confusion",
   "metadata": {},
   "source": [
    "# DNI Extract"
   ]
  },
  {
   "cell_type": "markdown",
   "id": "injured-castle",
   "metadata": {},
   "source": [
    "## Provinces"
   ]
  },
  {
   "cell_type": "code",
   "execution_count": null,
   "id": "informed-chamber",
   "metadata": {},
   "outputs": [],
   "source": [
    "driver.get(URL_DNI)"
   ]
  },
  {
   "cell_type": "code",
   "execution_count": null,
   "id": "coordinated-headquarters",
   "metadata": {},
   "outputs": [],
   "source": [
    "provinces = {}\n",
    "\n",
    "map_elem = driver.find_element_by_id('Map')\n",
    "for map_child in map_elem.find_elements_by_css_selector('*'):\n",
    "    name = map_child.get_attribute('alt')\n",
    "    url = map_child.get_attribute('href')\n",
    "    \n",
    "    provinces[name] = url"
   ]
  },
  {
   "cell_type": "markdown",
   "id": "driving-holiday",
   "metadata": {},
   "source": [
    "## Unidades"
   ]
  },
  {
   "cell_type": "code",
   "execution_count": null,
   "id": "neither-delhi",
   "metadata": {},
   "outputs": [],
   "source": [
    "province_name = 'A Coruña'\n",
    "province_url = provinces[province_name]\n",
    "\n",
    "driver.get(province_url)"
   ]
  },
  {
   "cell_type": "code",
   "execution_count": null,
   "id": "cardiac-mirror",
   "metadata": {},
   "outputs": [],
   "source": [
    "listas = driver.find_elements_by_class_name('lista')\n",
    "unidades = [extraer_datos_unidad(ud, province_name) for lista in listas for ud in lista.find_elements_by_tag_name('div')]"
   ]
  },
  {
   "cell_type": "code",
   "execution_count": null,
   "id": "worth-puzzle",
   "metadata": {},
   "outputs": [],
   "source": [
    "unidad = unidades[0]\n",
    "unidad_name = unidad['name']\n",
    "unidad"
   ]
  },
  {
   "cell_type": "markdown",
   "id": "horizontal-telephone",
   "metadata": {},
   "source": [
    "## Horas\n",
    "\n",
    "El comportamiento aquí siempre es igual: el mes y día seleccionados (por defecto, el primero) no tienen enlace, los siguientes sí."
   ]
  },
  {
   "cell_type": "code",
   "execution_count": null,
   "id": "involved-fortune",
   "metadata": {},
   "outputs": [],
   "source": [
    "driver.get(unidad['url'])"
   ]
  },
  {
   "cell_type": "markdown",
   "id": "stunning-regression",
   "metadata": {},
   "source": [
    "First try current month, then any remaining months"
   ]
  },
  {
   "cell_type": "code",
   "execution_count": null,
   "id": "peaceful-karma",
   "metadata": {},
   "outputs": [],
   "source": [
    "citas = extract_hours(driver, province_name, unidad_name)\n",
    "\n",
    "month_days = get_remaining_days(driver)\n",
    "for date, date_url in tqdm(month_days.items(), desc='Current month'):\n",
    "    driver.get(date_url)\n",
    "    citas.extend(extract_hours(driver, province_name, unidad_name))\n",
    "    \n",
    "next_months = get_remaining_months(driver)\n",
    "for month, month_url in next_months.items():\n",
    "    driver.get(month_url)\n",
    "    month_days = get_remaining_days(driver)\n",
    "    for date, date_url in tqdm(month_days.items(), desc=month):\n",
    "        driver.get(date_url)\n",
    "        citas.extend(extract_hours(driver, province_name, unidad_name))"
   ]
  },
  {
   "cell_type": "code",
   "execution_count": null,
   "id": "wicked-invention",
   "metadata": {},
   "outputs": [],
   "source": [
    "citas_df = pd.DataFrame(citas)\n",
    "citas_df.head()"
   ]
  },
  {
   "cell_type": "code",
   "execution_count": null,
   "id": "material-position",
   "metadata": {},
   "outputs": [],
   "source": [
    "citas_df.to_csv('citas_coruna.csv', index=False)"
   ]
  }
 ],
 "metadata": {
  "kernelspec": {
   "display_name": "Python 3",
   "language": "python",
   "name": "python3"
  },
  "language_info": {
   "codemirror_mode": {
    "name": "ipython",
    "version": 3
   },
   "file_extension": ".py",
   "mimetype": "text/x-python",
   "name": "python",
   "nbconvert_exporter": "python",
   "pygments_lexer": "ipython3",
   "version": "3.8.10"
  }
 },
 "nbformat": 4,
 "nbformat_minor": 5
}
