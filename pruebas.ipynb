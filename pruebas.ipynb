{
 "cells": [
  {
   "cell_type": "markdown",
   "id": "secure-christopher",
   "metadata": {},
   "source": [
    "# Liberar DNI - Notebook de pruebas\n",
    "\n",
    "Este notebook requiere las credenciales de tu DNI para iniciar sesión en el portal de cita previa en un archivo `.env`.\n",
    "Simplemente crea una copia de `.env.sample` llamada `.env` y rellena los datos con los que figuran en tu DNI."
   ]
  },
  {
   "cell_type": "code",
   "execution_count": null,
   "id": "revolutionary-ceremony",
   "metadata": {},
   "outputs": [],
   "source": [
    "import pandas as pd\n",
    "\n",
    "import geopandas as gpd\n",
    "import geopy\n",
    "\n",
    "from geopy.geocoders import Nominatim\n",
    "\n",
    "\n",
    "from selenium.webdriver import Chrome\n",
    "from tqdm.auto import tqdm\n",
    "\n",
    "from utils import (extraer_datos_unidad, extract_hours,\n",
    "                   get_remaining_days, get_remaining_months, login, URL_LOGIN, URL_DNI, URL_PASAPORTE)"
   ]
  },
  {
   "cell_type": "code",
   "execution_count": null,
   "id": "textile-price",
   "metadata": {},
   "outputs": [],
   "source": [
    "tqdm.pandas()"
   ]
  },
  {
   "cell_type": "code",
   "execution_count": null,
   "id": "wicked-angel",
   "metadata": {},
   "outputs": [],
   "source": [
    "driver = Chrome()\n",
    "\n",
    "driver.get(URL_LOGIN)"
   ]
  },
  {
   "cell_type": "markdown",
   "id": "greatest-champion",
   "metadata": {
    "tags": []
   },
   "source": [
    "## Login"
   ]
  },
  {
   "cell_type": "code",
   "execution_count": null,
   "id": "5033f657-915d-4194-93b4-9554f4f5aff6",
   "metadata": {},
   "outputs": [],
   "source": [
    "login(driver, tesseract_check=True)"
   ]
  },
  {
   "cell_type": "markdown",
   "id": "presidential-basement",
   "metadata": {},
   "source": [
    "# DNI Extract"
   ]
  },
  {
   "cell_type": "markdown",
   "id": "editorial-orlando",
   "metadata": {},
   "source": [
    "## Provinces"
   ]
  },
  {
   "cell_type": "code",
   "execution_count": null,
   "id": "collectible-cross",
   "metadata": {},
   "outputs": [],
   "source": [
    "driver.get(URL_DNI)"
   ]
  },
  {
   "cell_type": "code",
   "execution_count": null,
   "id": "south-basic",
   "metadata": {},
   "outputs": [],
   "source": [
    "provinces = {}\n",
    "\n",
    "map_elem = driver.find_element_by_id('Map')\n",
    "for map_child in map_elem.find_elements_by_css_selector('*'):\n",
    "    name = map_child.get_attribute('alt')\n",
    "    url = map_child.get_attribute('href')\n",
    "    \n",
    "    provinces[name] = url"
   ]
  },
  {
   "cell_type": "code",
   "execution_count": null,
   "id": "b47a9cea-c321-483e-b3fc-3f56abd3b920",
   "metadata": {},
   "outputs": [],
   "source": [
    "provinces"
   ]
  },
  {
   "cell_type": "markdown",
   "id": "knowing-nicaragua",
   "metadata": {},
   "source": [
    "## Unidades"
   ]
  },
  {
   "cell_type": "code",
   "execution_count": null,
   "id": "83a9040d-21a9-428f-91a2-04133045d7cb",
   "metadata": {},
   "outputs": [],
   "source": [
    "# driver.get(URL_DNI)\n",
    "# \n",
    "# unidades_spain = []\n",
    "# \n",
    "# for province_name, province_url in tqdm(provinces.items()):\n",
    "#     \n",
    "#     driver.get(province_url)\n",
    "#     \n",
    "#     listas = driver.find_elements_by_class_name('lista')\n",
    "#     unidades_provincia = [extraer_datos_unidad(ud, province_name) for lista in listas for ud in lista.find_elements_by_tag_name('div')]\n",
    "#     \n",
    "#     unidades_spain.extend(unidades_provincia)\n",
    "# \n",
    "# unidades_spain = pd.DataFrame(unidades_spain)    \n",
    "# unidades_spain.to_csv('unidades_spain.csv', index = False)"
   ]
  },
  {
   "cell_type": "code",
   "execution_count": null,
   "id": "1123b849-d779-4c3a-ade9-d5b8c6325770",
   "metadata": {},
   "outputs": [],
   "source": [
    "# sanity check - estan todas las provincias de spain?\n",
    "# unidades_spain.province.unique()\n",
    "\n",
    "\n",
    "# abrir csv unidades spain\n",
    "unidades_spain = pd.read_csv(\"unidades_spain.csv\")"
   ]
  },
  {
   "cell_type": "markdown",
   "id": "587c8adf-8bbd-4cc7-97ea-869d21cc7070",
   "metadata": {},
   "source": [
    "## Geocoding"
   ]
  },
  {
   "cell_type": "code",
   "execution_count": null,
   "id": "001eefae-4dee-4359-91ce-f751e9d24e23",
   "metadata": {},
   "outputs": [],
   "source": [
    "locator = Nominatim(user_agent=\"myGeocoder\")\n",
    "\n",
    "def geocode_row(row):\n",
    "    location = locator.geocode(row.direccion)\n",
    "    \n",
    "    row['latitude'] = location.latitude if location else None\n",
    "    row['longitude'] = location.longitude if location else None\n",
    "    \n",
    "    return row"
   ]
  },
  {
   "cell_type": "code",
   "execution_count": null,
   "id": "81b574ea-e744-4a17-9982-97a6d3c4e368",
   "metadata": {},
   "outputs": [],
   "source": [
    "unidades_spain = unidades_spain.progress_apply(geocode_row, axis=1)"
   ]
  },
  {
   "cell_type": "code",
   "execution_count": null,
   "id": "9b4b8903-01e6-4c03-98e8-63857b4620bd",
   "metadata": {},
   "outputs": [],
   "source": [
    "# unidades_spain.to_csv('unidades_spain.csv', index = False)\n",
    "# unidades_spain"
   ]
  },
  {
   "cell_type": "code",
   "execution_count": null,
   "id": "73272647-f67b-4b6f-bc8e-b87e8b6bb986",
   "metadata": {},
   "outputs": [],
   "source": [
    "unidades_spain[:10]"
   ]
  },
  {
   "cell_type": "markdown",
   "id": "express-stadium",
   "metadata": {},
   "source": [
    "## Horas\n",
    "\n",
    "El comportamiento aquí siempre es igual: el mes y día seleccionados (por defecto, el primero) no tienen enlace, los siguientes sí."
   ]
  },
  {
   "cell_type": "code",
   "execution_count": null,
   "id": "brilliant-converter",
   "metadata": {},
   "outputs": [],
   "source": [
    "driver.get(unidad['url'])"
   ]
  },
  {
   "cell_type": "markdown",
   "id": "southeast-scanning",
   "metadata": {},
   "source": [
    "First try current month, then any remaining months"
   ]
  },
  {
   "cell_type": "code",
   "execution_count": null,
   "id": "atmospheric-blind",
   "metadata": {},
   "outputs": [],
   "source": [
    "citas = extract_hours(driver, province_name, unidad_name)\n",
    "\n",
    "month_days = get_remaining_days(driver)\n",
    "for date, date_url in tqdm(month_days.items(), desc='Current month'):\n",
    "    driver.get(date_url)\n",
    "    citas.extend(extract_hours(driver, province_name, unidad_name))\n",
    "    \n",
    "next_months = get_remaining_months(driver)\n",
    "for month, month_url in next_months.items():\n",
    "    driver.get(month_url)\n",
    "    month_days = get_remaining_days(driver)\n",
    "    for date, date_url in tqdm(month_days.items(), desc=month):\n",
    "        driver.get(date_url)\n",
    "        citas.extend(extract_hours(driver, province_name, unidad_name))"
   ]
  },
  {
   "cell_type": "code",
   "execution_count": null,
   "id": "above-roommate",
   "metadata": {},
   "outputs": [],
   "source": [
    "citas_df = pd.DataFrame(citas)\n",
    "citas_df.head()"
   ]
  },
  {
   "cell_type": "code",
   "execution_count": null,
   "id": "historic-breed",
   "metadata": {},
   "outputs": [],
   "source": [
    "citas_df.to_csv('citas_coruna.csv', index=False)"
   ]
  },
  {
   "cell_type": "code",
   "execution_count": null,
   "id": "3ffee43c-d8ca-420e-a374-058a8ff815a1",
   "metadata": {},
   "outputs": [],
   "source": []
  }
 ],
 "metadata": {
  "kernelspec": {
   "display_name": "Python 3 (ipykernel)",
   "language": "python",
   "name": "python3"
  },
  "language_info": {
   "codemirror_mode": {
    "name": "ipython",
    "version": 3
   },
   "file_extension": ".py",
   "mimetype": "text/x-python",
   "name": "python",
   "nbconvert_exporter": "python",
   "pygments_lexer": "ipython3",
   "version": "3.7.11"
  }
 },
 "nbformat": 4,
 "nbformat_minor": 5
}
